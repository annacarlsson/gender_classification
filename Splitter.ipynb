{
 "cells": [
  {
   "cell_type": "code",
   "execution_count": 4,
   "metadata": {
    "ExecuteTime": {
     "end_time": "2019-05-27T12:03:51.992491Z",
     "start_time": "2019-05-27T12:03:51.989870Z"
    }
   },
   "outputs": [],
   "source": [
    "from pathlib import Path\n",
    "import os\n",
    "import numpy as np\n",
    "import math\n",
    "import shutil"
   ]
  },
  {
   "cell_type": "code",
   "execution_count": 7,
   "metadata": {
    "ExecuteTime": {
     "end_time": "2019-05-27T12:04:18.855040Z",
     "start_time": "2019-05-27T12:04:18.852261Z"
    },
    "scrolled": true
   },
   "outputs": [],
   "source": [
    "src = Path('/home/deeplearn/Desktop/Sorted')\n",
    "training = Path('Adience_train')\n",
    "validation = Path('Adience_validation')\n",
    "test = Path('Adience_test')\n",
    "validation_split = 0.1\n",
    "test_split = 0.05"
   ]
  },
  {
   "cell_type": "code",
   "execution_count": 8,
   "metadata": {
    "ExecuteTime": {
     "end_time": "2019-05-27T12:04:26.314974Z",
     "start_time": "2019-05-27T12:04:25.897576Z"
    }
   },
   "outputs": [
    {
     "name": "stdout",
     "output_type": "stream",
     "text": [
      "389\n",
      "195\n",
      "3300\n",
      "401\n",
      "201\n",
      "3400\n"
     ]
    }
   ],
   "source": [
    "def move(new_path, current_path, files):\n",
    "    os.makedirs(new_path, exist_ok=True)    \n",
    "    print(len(files))\n",
    "    for file in files:\n",
    "        shutil.copy(current_path / file, new_path / file, follow_symlinks=False)\n",
    "    \n",
    "splits = [validation_split, test_split, 1]\n",
    "destinations = [validation, test, training]\n",
    "for folder in os.listdir(src):\n",
    "    files = os.listdir(src / folder)\n",
    "    np.random.shuffle(files)\n",
    "    slice_splits = [math.ceil(len(files)*split) for split in splits]\n",
    "    prev = 0\n",
    "    for slice_split, dest in zip(slice_splits, destinations):\n",
    "        move(dest / folder, src / folder, files[prev:prev+slice_split])\n",
    "        prev += slice_split\n",
    "        "
   ]
  },
  {
   "cell_type": "code",
   "execution_count": null,
   "metadata": {},
   "outputs": [],
   "source": []
  }
 ],
 "metadata": {
  "kernelspec": {
   "display_name": "Python 3",
   "language": "python",
   "name": "python3"
  },
  "language_info": {
   "codemirror_mode": {
    "name": "ipython",
    "version": 3
   },
   "file_extension": ".py",
   "mimetype": "text/x-python",
   "name": "python",
   "nbconvert_exporter": "python",
   "pygments_lexer": "ipython3",
   "version": "3.6.7"
  },
  "toc": {
   "base_numbering": 1,
   "nav_menu": {},
   "number_sections": true,
   "sideBar": true,
   "skip_h1_title": false,
   "title_cell": "Table of Contents",
   "title_sidebar": "Contents",
   "toc_cell": false,
   "toc_position": {},
   "toc_section_display": true,
   "toc_window_display": false
  }
 },
 "nbformat": 4,
 "nbformat_minor": 2
}
