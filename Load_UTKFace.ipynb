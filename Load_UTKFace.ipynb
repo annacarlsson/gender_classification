{
 "cells": [
  {
   "cell_type": "code",
   "execution_count": 4,
   "metadata": {},
   "outputs": [],
   "source": [
    "from pathlib import Path\n",
    "import os"
   ]
  },
  {
   "cell_type": "code",
   "execution_count": 5,
   "metadata": {},
   "outputs": [],
   "source": [
    "path = Path('/home/deeplearn/Desktop/UTKFace/')\n",
    "files = os.listdir(path)"
   ]
  },
  {
   "cell_type": "code",
   "execution_count": 8,
   "metadata": {},
   "outputs": [],
   "source": [
    "output = Path('/home/deeplearn/Desktop/TESTINGTHIS/')\n",
    "output_paths = {'0': 'Male', '1': 'Female'}\n",
    "os.makedirs(output, exist_ok=True)"
   ]
  },
  {
   "cell_type": "code",
   "execution_count": 9,
   "metadata": {},
   "outputs": [
    {
     "name": "stdout",
     "output_type": "stream",
     "text": [
      "23708\n"
     ]
    }
   ],
   "source": [
    "def create_sym(file):\n",
    "    info = file.split('_')\n",
    "    gender = info[1]\n",
    "    \n",
    "    src = path / file\n",
    "    dest_path = output / output_paths[gender]\n",
    "    os.makedirs(dest_path, exist_ok=True)\n",
    "    dest = dest_path / file\n",
    "    #print(src, dest)\n",
    "    os.symlink(src, dest)\n",
    "\n",
    "print(len(files))\n",
    "for file in files:\n",
    "    create_sym(file)"
   ]
  },
  {
   "cell_type": "code",
   "execution_count": null,
   "metadata": {},
   "outputs": [],
   "source": []
  }
 ],
 "metadata": {
  "kernelspec": {
   "display_name": "Python 3",
   "language": "python",
   "name": "python3"
  },
  "language_info": {
   "codemirror_mode": {
    "name": "ipython",
    "version": 3
   },
   "file_extension": ".py",
   "mimetype": "text/x-python",
   "name": "python",
   "nbconvert_exporter": "python",
   "pygments_lexer": "ipython3",
   "version": "3.6.7"
  }
 },
 "nbformat": 4,
 "nbformat_minor": 2
}
