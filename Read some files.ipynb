{
 "cells": [
  {
   "cell_type": "code",
   "execution_count": 1,
   "metadata": {
    "scrolled": false
   },
   "outputs": [],
   "source": [
    "from pathlib import Path\n",
    "from scipy.io import loadmat\n",
    "from datetime import date\n",
    "import os\n",
    "\n",
    "keyword = 'imdb'\n",
    "\n",
    "## MATLAB's datenum is different from Python's date by a term 366\n",
    "date_difference_matlab = -366\n",
    "x = loadmat('{0}/{0}.mat'.format(keyword))"
   ]
  },
  {
   "cell_type": "code",
   "execution_count": 2,
   "metadata": {},
   "outputs": [],
   "source": [
    "val = x[keyword][0,0]\n",
    "dobs = val['dob']\n",
    "photos_taken = val['photo_taken']\n",
    "names = val['name']\n",
    "full_paths = val['full_path']\n",
    "genders = val['gender']"
   ]
  },
  {
   "cell_type": "code",
   "execution_count": 3,
   "metadata": {},
   "outputs": [],
   "source": [
    "source = '/home/deeplearn/Desktop/{}_crop'.format(keyword)\n",
    "destination = 'IMDb_Dataset'\n",
    "create_symbolic_links = True\n",
    "verbose = False"
   ]
  },
  {
   "cell_type": "code",
   "execution_count": 4,
   "metadata": {},
   "outputs": [
    {
     "name": "stdout",
     "output_type": "stream",
     "text": [
      "8462\n"
     ]
    }
   ],
   "source": [
    "\n",
    "get_date = lambda x : date.fromordinal(x+date_difference_matlab)\n",
    "\n",
    "def get_destination(destination, gender, name):\n",
    "    return os.path.join(destination, 'male' if gender == 1.0 else 'female', name)\n",
    "\n",
    "n_faces = len(dobs[0])\n",
    "\n",
    "for s in ['male', 'female']:\n",
    "    if not os.path.exists(os.path.join(destination, s)):\n",
    "        os.makedirs(os.path.join(destination, s))\n",
    "count = 0\n",
    "for i in range(n_faces):\n",
    "    \n",
    "    # Date klarar bara av datum efter ett visst datum\n",
    "    try:\n",
    "        date_of_birth = get_date(dobs[0, i])\n",
    "    except:\n",
    "        continue\n",
    "    date_of_photo = date(photos_taken[0, i], 7, 1)\n",
    "    age = (date_of_photo-date_of_birth).days//365\n",
    "    path = Path(full_paths[0,i][0])\n",
    "    gender = genders[0,i]\n",
    "    if gender not in (0.0, 1.0):\n",
    "        count += 1\n",
    "        continue\n",
    "    if verbose:\n",
    "        print(age,\n",
    "              path,\n",
    "              names[0,i][0],\n",
    "              gender)\n",
    "    if create_symbolic_links:\n",
    "        _, name = os.path.split(path)\n",
    "        dest_path = Path(get_destination(destination, gender, name))\n",
    "        os.symlink(source / path, dest_path)\n",
    "print(count)"
   ]
  },
  {
   "cell_type": "code",
   "execution_count": null,
   "metadata": {},
   "outputs": [],
   "source": []
  }
 ],
 "metadata": {
  "kernelspec": {
   "display_name": "Python 3",
   "language": "python",
   "name": "python3"
  },
  "language_info": {
   "codemirror_mode": {
    "name": "ipython",
    "version": 3
   },
   "file_extension": ".py",
   "mimetype": "text/x-python",
   "name": "python",
   "nbconvert_exporter": "python",
   "pygments_lexer": "ipython3",
   "version": "3.7.1"
  }
 },
 "nbformat": 4,
 "nbformat_minor": 2
}
